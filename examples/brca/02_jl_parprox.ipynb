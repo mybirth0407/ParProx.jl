{
 "cells": [
  {
   "cell_type": "code",
   "execution_count": 1,
   "id": "0189da78-bc9e-4200-8b22-fbee6f2bcc02",
   "metadata": {},
   "outputs": [
    {
     "name": "stderr",
     "output_type": "stream",
     "text": [
      "\u001b[36m\u001b[1m[ \u001b[22m\u001b[39m\u001b[36m\u001b[1mInfo: \u001b[22m\u001b[39mPrecompiling ParProx [440725ae-e20d-4dd2-817a-b87798dc3ed7]\n"
     ]
    }
   ],
   "source": [
    "using ParProx, Printf, Statistics # load the packages\n",
    "using CSV, DataFrames, CodecZlib, Mmap # packages for data reading. GZip is used to read the gzipped text file.\n",
    "\n",
    "# package for one-hot encoding\n",
    "using NPZ\n",
    "using Pickle\n",
    "using JSON"
   ]
  },
  {
   "cell_type": "code",
   "execution_count": 2,
   "id": "9276d931-9c03-49f4-b5f4-686a9c3572bf",
   "metadata": {},
   "outputs": [],
   "source": [
    "using CUDA, Adapt"
   ]
  },
  {
   "cell_type": "code",
   "execution_count": 3,
   "id": "05d6c721-4d0d-4afb-bd1b-3cf942e84ccd",
   "metadata": {},
   "outputs": [],
   "source": [
    "sort_order = npzread(\"preprocessed/sort_order.npz\")[\"data\"];\n",
    "survival = npzread(\"preprocessed/survival.npz\");\n",
    "survival_event = survival[\"pfi\"];\n",
    "survival_time = survival[\"pfi_time\"];"
   ]
  },
  {
   "cell_type": "code",
   "execution_count": 4,
   "id": "ee67be5b-27ca-41a4-86e7-8ee480c914a1",
   "metadata": {},
   "outputs": [],
   "source": [
    "# group_to_variables = [convert(Vector{Int64}, x) for x in Pickle.load(\"preprocessed/group_to_variables_index.pkl\")];\n",
    "# array_predictors = npzread(\"preprocessed/array_predictors.npz\")[\"data\"];\n",
    "# json_file_path = \"preprocessed/index_to_group.json\"\n",
    "# index_to_group = JSON.parsefile(json_file_path);\n",
    "\n",
    "# json_file_path = \"preprocessed/index_to_variable.json\"\n",
    "# index_to_variable = JSON.parsefile(json_file_path);\n",
    "\n",
    "# json_file_path = \"preprocessed/variable_to_index.json\"\n",
    "# variable_to_index = JSON.parsefile(json_file_path);"
   ]
  },
  {
   "cell_type": "code",
   "execution_count": 5,
   "id": "d2fe9b5c-5b42-4644-a2e2-84b2483c6d1a",
   "metadata": {},
   "outputs": [],
   "source": [
    "group_to_variables = [convert(Vector{Int64}, x) for x in Pickle.load(\"only_mrna/group_to_variables_index.pkl\")];\n",
    "array_predictors = npzread(\"only_mrna/array_predictors.npz\")[\"data\"];\n",
    "json_file_path = \"only_mrna/index_to_group.json\"\n",
    "index_to_group = JSON.parsefile(json_file_path);\n",
    "\n",
    "json_file_path = \"only_mrna/index_to_variable.json\"\n",
    "index_to_variable = JSON.parsefile(json_file_path);\n",
    "\n",
    "json_file_path = \"only_mrna/variable_to_index.json\"\n",
    "variable_to_index = JSON.parsefile(json_file_path);"
   ]
  },
  {
   "cell_type": "code",
   "execution_count": 6,
   "id": "068bbabb",
   "metadata": {},
   "outputs": [
    {
     "data": {
      "text/plain": [
       "((726, 20531), (726, 5))"
      ]
     },
     "execution_count": 6,
     "metadata": {},
     "output_type": "execute_result"
    }
   ],
   "source": [
    "X = array_predictors[:, 1:end-5]\n",
    "X_unpen = array_predictors[:, end-4:end]\n",
    "size(X), size(X_unpen)"
   ]
  },
  {
   "cell_type": "code",
   "execution_count": 7,
   "id": "627a9e21-8ec9-4b40-a19e-bb021aee8c0f",
   "metadata": {},
   "outputs": [
    {
     "data": {
      "text/plain": [
       "21-element Vector{Float64}:\n",
       " 1.0e-8\n",
       " 7.943282347242822e-9\n",
       " 6.309573444801943e-9\n",
       " 5.011872336272715e-9\n",
       " 3.981071705534969e-9\n",
       " 3.1622776601683795e-9\n",
       " 2.511886431509582e-9\n",
       " 1.9952623149688828e-9\n",
       " 1.584893192461111e-9\n",
       " 1.2589254117941663e-9\n",
       " 1.0e-9\n",
       " 7.943282347242822e-10\n",
       " 6.309573444801942e-10\n",
       " 5.011872336272714e-10\n",
       " 3.9810717055349694e-10\n",
       " 3.1622776601683795e-10\n",
       " 2.511886431509582e-10\n",
       " 1.9952623149688828e-10\n",
       " 1.584893192461111e-10\n",
       " 1.2589254117941662e-10\n",
       " 1.0e-10"
      ]
     },
     "execution_count": 7,
     "metadata": {},
     "output_type": "execute_result"
    }
   ],
   "source": [
    "lambdas = 10 .^ (range(-8, stop=-10, length=21))"
   ]
  },
  {
   "cell_type": "code",
   "execution_count": 8,
   "id": "ebf27a93-a127-4a74-9ccd-3e006f7684ea",
   "metadata": {},
   "outputs": [],
   "source": [
    "# CUDA.allowscalar(true)\n",
    "\n",
    "# T = Float64\n",
    "# A = CuArray\n",
    "# U = ParProx.COXUpdate(; maxiter=20000, step=1000, tol=1e-6, verbose=true)\n",
    "\n",
    "# @time scores = ParProx.cross_validate(\n",
    "#     U,\n",
    "#     adapt(A{T}, X),\n",
    "#     adapt(A{T}, X_unpen),\n",
    "#     adapt(A{T}, survival_event),\n",
    "#     adapt(A{T}, survival_time),\n",
    "#     group_to_variables,\n",
    "#     lambdas, 5;\n",
    "#     T=Float64\n",
    "# )"
   ]
  },
  {
   "cell_type": "code",
   "execution_count": 9,
   "id": "64df896f-c1f1-4b6a-8def-e4fad516eeb2",
   "metadata": {},
   "outputs": [],
   "source": [
    "# lambda_idx = argmax(mean(scores; dims=2)[:])\n",
    "# lambda = lambdas[lambda_idx]"
   ]
  },
  {
   "cell_type": "code",
   "execution_count": 10,
   "id": "b832efa8-ba2e-479e-8b65-5cadc5d6889c",
   "metadata": {},
   "outputs": [
    {
     "data": {
      "text/plain": [
       "1.2589254117941663e-9"
      ]
     },
     "execution_count": 10,
     "metadata": {},
     "output_type": "execute_result"
    }
   ],
   "source": [
    "lambda = lambdas[10]"
   ]
  },
  {
   "cell_type": "code",
   "execution_count": 11,
   "id": "60fb8035-ed9b-4d04-919c-515731930ea0",
   "metadata": {
    "scrolled": true
   },
   "outputs": [
    {
     "name": "stdout",
     "output_type": "stream",
     "text": [
      "v.σ = 3.6275709043856147e-8\n"
     ]
    },
    {
     "ename": "LoadError",
     "evalue": "type COXVariables has no field obj",
     "output_type": "error",
     "traceback": [
      "type COXVariables has no field obj",
      "",
      "Stacktrace:",
      " [1] getproperty",
      "   @ ./Base.jl:38 [inlined]",
      " [2] one_iter!(u::COXUpdate, v::COXVariables{Float64, CuArray})",
      "   @ ParProx ~/workspace/ParProx.jl/src/cox.jl:217",
      " [3] loop!",
      "   @ ~/workspace/ParProx.jl/src/utils.jl:50 [inlined]",
      " [4] fit!(u::COXUpdate, v::COXVariables{Float64, CuArray})",
      "   @ ParProx ~/workspace/ParProx.jl/src/cox.jl:241",
      " [5] top-level scope",
      "   @ ./timing.jl:262 [inlined]",
      " [6] top-level scope",
      "   @ ./In[11]:0"
     ]
    }
   ],
   "source": [
    "CUDA.allowscalar(true)\n",
    "\n",
    "T = Float64\n",
    "A = CuArray\n",
    "U = ParProx.COXUpdate(; maxiter=20000, step=10, tol=1e-12, verbose=true)\n",
    "V = ParProx.COXVariables{T}(\n",
    "    adapt(A{T}, X),\n",
    "    adapt(A{T}, X_unpen),\n",
    "    adapt(A{T}, survival_event),\n",
    "    adapt(A{T}, survival_time),\n",
    "    4.3e-8,\n",
    "    group_to_variables,\n",
    "    eval_obj=true\n",
    ")\n",
    "\n",
    "@time ParProx.fit!(U, V)"
   ]
  },
  {
   "cell_type": "code",
   "execution_count": null,
   "id": "037719b7-7d57-4cec-b561-cccda77dabe7",
   "metadata": {},
   "outputs": [],
   "source": [
    "_, grpmat, _ = ParProx.mapper_mat_idx(group_to_variables, length(index_to_variable));"
   ]
  },
  {
   "cell_type": "code",
   "execution_count": null,
   "id": "c985ab86-427d-419b-9f23-82c601a9f41f",
   "metadata": {},
   "outputs": [],
   "source": [
    "β_orig = vcat(grpmat * collect(V.β[1:end-5]), collect(V.β)[end-4:end]);"
   ]
  },
  {
   "cell_type": "code",
   "execution_count": null,
   "id": "2789c6a0-a6c3-4e81-a60e-980df4154555",
   "metadata": {},
   "outputs": [],
   "source": [
    "variable_names_replicated = String[]\n",
    "for i in 1:length(group_to_variables)\n",
    "    for v in group_to_variables[i]\n",
    "        variable_name = index_to_variable[string(v)]\n",
    "        # print(variable_name)\n",
    "        push!(variable_names_replicated, \"$variable_name\")\n",
    "    end\n",
    "end"
   ]
  },
  {
   "cell_type": "code",
   "execution_count": null,
   "id": "c4d9387e-86bb-41fd-9354-59c76646d3f8",
   "metadata": {
    "scrolled": true
   },
   "outputs": [],
   "source": [
    "variable_names_replicated = [variable_names_replicated; \"age_at_initial_pathologic_diagnosis\"; \"gender\"; \"BLACK OR AFRICAN AMERICAN\"; \"ASIAN\"; \"AMERICAN INDIAN OR ALASKA NATIVE\"];"
   ]
  },
  {
   "cell_type": "code",
   "execution_count": null,
   "id": "cf8ef4c7-138a-431d-8847-a830a0246b21",
   "metadata": {},
   "outputs": [],
   "source": [
    "df_variable_name = DataFrame(index = collect(keys(index_to_variable)), value = collect(values(index_to_variable)))\n",
    "df_variable_name.index = parse.(Int, df_variable_name.index);\n",
    "sort!(df_variable_name, :index);\n",
    "variable_names = [df_variable_name.value; \"age_at_initial_pathologic_diagnosis\"; \"gender\"; \"BLACK OR AFRICAN AMERICAN\"; \"ASIAN\"; \"AMERICAN INDIAN OR ALASKA NATIVE\"];"
   ]
  },
  {
   "cell_type": "code",
   "execution_count": null,
   "id": "163d6c9f-3be4-4feb-8537-5415eee18ace",
   "metadata": {
    "scrolled": true
   },
   "outputs": [],
   "source": [
    "for (v, β) in zip(variable_names_replicated[V.β .!= 0], V.β[V.β .!= 0])\n",
    "    println(\"$v\\t$β\")\n",
    "end"
   ]
  },
  {
   "cell_type": "code",
   "execution_count": null,
   "id": "5e46b56b-3e7b-4c51-b534-99735f73eb2b",
   "metadata": {
    "scrolled": true
   },
   "outputs": [],
   "source": [
    "for (v, β) in zip(variable_names[β_orig .!= 0], β_orig[β_orig .!= 0])\n",
    "    println(\"$v\\t$β\")\n",
    "end"
   ]
  },
  {
   "cell_type": "code",
   "execution_count": null,
   "id": "cca8daaa-4948-4c2c-a76f-c0be85a55a55",
   "metadata": {},
   "outputs": [],
   "source": []
  },
  {
   "cell_type": "code",
   "execution_count": null,
   "id": "e54f6ac1-0a15-47ad-829d-baa572b906ef",
   "metadata": {},
   "outputs": [],
   "source": []
  }
 ],
 "metadata": {
  "kernelspec": {
   "display_name": "Julia 1.8.5",
   "language": "julia",
   "name": "julia-1.8"
  },
  "language_info": {
   "file_extension": ".jl",
   "mimetype": "application/julia",
   "name": "julia",
   "version": "1.8.5"
  }
 },
 "nbformat": 4,
 "nbformat_minor": 5
}
